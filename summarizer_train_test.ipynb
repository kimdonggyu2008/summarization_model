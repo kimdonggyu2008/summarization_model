{
  "nbformat": 4,
  "nbformat_minor": 0,
  "metadata": {
    "colab": {
      "provenance": [],
      "machine_shape": "hm",
      "gpuType": "L4",
      "collapsed_sections": [
        "m1CyAMxCgEqj"
      ],
      "authorship_tag": "ABX9TyNNaRSUc8NfGaSYJj/rpl4F",
      "include_colab_link": true
    },
    "kernelspec": {
      "name": "python3",
      "display_name": "Python 3"
    },
    "language_info": {
      "name": "python"
    },
    "accelerator": "GPU"
  },
  "cells": [
    {
      "cell_type": "markdown",
      "metadata": {
        "id": "view-in-github",
        "colab_type": "text"
      },
      "source": [
        "<a href=\"https://colab.research.google.com/github/kimdonggyu2008/summarization_model/blob/main/summarizer_train_test.ipynb\" target=\"_parent\"><img src=\"https://colab.research.google.com/assets/colab-badge.svg\" alt=\"Open In Colab\"/></a>"
      ]
    },
    {
      "cell_type": "markdown",
      "source": [
        "#요약 모델(pegasus)학습 및 추론 코드"
      ],
      "metadata": {
        "id": "Em1hW4fSwzH_"
      }
    },
    {
      "cell_type": "code",
      "source": [
        "# Google Drive 마운트\n",
        "from google.colab import drive\n",
        "drive.mount('/content/drive')"
      ],
      "metadata": {
        "id": "58aw0GJxUjm6",
        "colab": {
          "base_uri": "https://localhost:8080/"
        },
        "outputId": "f14c100b-3fc4-4aeb-a188-c0ac795b33b7"
      },
      "execution_count": null,
      "outputs": [
        {
          "output_type": "stream",
          "name": "stdout",
          "text": [
            "Mounted at /content/drive\n"
          ]
        }
      ]
    },
    {
      "cell_type": "code",
      "source": [
        "!pip install datasets"
      ],
      "metadata": {
        "id": "GI-FEIIuUlRC",
        "colab": {
          "base_uri": "https://localhost:8080/"
        },
        "outputId": "9b31b8e0-e15a-4e39-e326-b1bcdbbacaef"
      },
      "execution_count": null,
      "outputs": [
        {
          "output_type": "stream",
          "name": "stdout",
          "text": [
            "Collecting datasets\n",
            "  Downloading datasets-3.0.2-py3-none-any.whl.metadata (20 kB)\n",
            "Requirement already satisfied: filelock in /usr/local/lib/python3.10/dist-packages (from datasets) (3.16.1)\n",
            "Requirement already satisfied: numpy>=1.17 in /usr/local/lib/python3.10/dist-packages (from datasets) (1.26.4)\n",
            "Requirement already satisfied: pyarrow>=15.0.0 in /usr/local/lib/python3.10/dist-packages (from datasets) (16.1.0)\n",
            "Collecting dill<0.3.9,>=0.3.0 (from datasets)\n",
            "  Downloading dill-0.3.8-py3-none-any.whl.metadata (10 kB)\n",
            "Requirement already satisfied: pandas in /usr/local/lib/python3.10/dist-packages (from datasets) (2.2.2)\n",
            "Requirement already satisfied: requests>=2.32.2 in /usr/local/lib/python3.10/dist-packages (from datasets) (2.32.3)\n",
            "Requirement already satisfied: tqdm>=4.66.3 in /usr/local/lib/python3.10/dist-packages (from datasets) (4.66.5)\n",
            "Collecting xxhash (from datasets)\n",
            "  Downloading xxhash-3.5.0-cp310-cp310-manylinux_2_17_x86_64.manylinux2014_x86_64.whl.metadata (12 kB)\n",
            "Collecting multiprocess<0.70.17 (from datasets)\n",
            "  Downloading multiprocess-0.70.16-py310-none-any.whl.metadata (7.2 kB)\n",
            "Requirement already satisfied: fsspec<=2024.9.0,>=2023.1.0 in /usr/local/lib/python3.10/dist-packages (from fsspec[http]<=2024.9.0,>=2023.1.0->datasets) (2024.6.1)\n",
            "Requirement already satisfied: aiohttp in /usr/local/lib/python3.10/dist-packages (from datasets) (3.10.10)\n",
            "Requirement already satisfied: huggingface-hub>=0.23.0 in /usr/local/lib/python3.10/dist-packages (from datasets) (0.24.7)\n",
            "Requirement already satisfied: packaging in /usr/local/lib/python3.10/dist-packages (from datasets) (24.1)\n",
            "Requirement already satisfied: pyyaml>=5.1 in /usr/local/lib/python3.10/dist-packages (from datasets) (6.0.2)\n",
            "Requirement already satisfied: aiohappyeyeballs>=2.3.0 in /usr/local/lib/python3.10/dist-packages (from aiohttp->datasets) (2.4.3)\n",
            "Requirement already satisfied: aiosignal>=1.1.2 in /usr/local/lib/python3.10/dist-packages (from aiohttp->datasets) (1.3.1)\n",
            "Requirement already satisfied: attrs>=17.3.0 in /usr/local/lib/python3.10/dist-packages (from aiohttp->datasets) (24.2.0)\n",
            "Requirement already satisfied: frozenlist>=1.1.1 in /usr/local/lib/python3.10/dist-packages (from aiohttp->datasets) (1.4.1)\n",
            "Requirement already satisfied: multidict<7.0,>=4.5 in /usr/local/lib/python3.10/dist-packages (from aiohttp->datasets) (6.1.0)\n",
            "Requirement already satisfied: yarl<2.0,>=1.12.0 in /usr/local/lib/python3.10/dist-packages (from aiohttp->datasets) (1.16.0)\n",
            "Requirement already satisfied: async-timeout<5.0,>=4.0 in /usr/local/lib/python3.10/dist-packages (from aiohttp->datasets) (4.0.3)\n",
            "Requirement already satisfied: typing-extensions>=3.7.4.3 in /usr/local/lib/python3.10/dist-packages (from huggingface-hub>=0.23.0->datasets) (4.12.2)\n",
            "Requirement already satisfied: charset-normalizer<4,>=2 in /usr/local/lib/python3.10/dist-packages (from requests>=2.32.2->datasets) (3.4.0)\n",
            "Requirement already satisfied: idna<4,>=2.5 in /usr/local/lib/python3.10/dist-packages (from requests>=2.32.2->datasets) (3.10)\n",
            "Requirement already satisfied: urllib3<3,>=1.21.1 in /usr/local/lib/python3.10/dist-packages (from requests>=2.32.2->datasets) (2.2.3)\n",
            "Requirement already satisfied: certifi>=2017.4.17 in /usr/local/lib/python3.10/dist-packages (from requests>=2.32.2->datasets) (2024.8.30)\n",
            "Requirement already satisfied: python-dateutil>=2.8.2 in /usr/local/lib/python3.10/dist-packages (from pandas->datasets) (2.8.2)\n",
            "Requirement already satisfied: pytz>=2020.1 in /usr/local/lib/python3.10/dist-packages (from pandas->datasets) (2024.2)\n",
            "Requirement already satisfied: tzdata>=2022.7 in /usr/local/lib/python3.10/dist-packages (from pandas->datasets) (2024.2)\n",
            "Requirement already satisfied: six>=1.5 in /usr/local/lib/python3.10/dist-packages (from python-dateutil>=2.8.2->pandas->datasets) (1.16.0)\n",
            "Requirement already satisfied: propcache>=0.2.0 in /usr/local/lib/python3.10/dist-packages (from yarl<2.0,>=1.12.0->aiohttp->datasets) (0.2.0)\n",
            "Downloading datasets-3.0.2-py3-none-any.whl (472 kB)\n",
            "\u001b[2K   \u001b[90m━━━━━━━━━━━━━━━━━━━━━━━━━━━━━━━━━━━━━━━━\u001b[0m \u001b[32m472.7/472.7 kB\u001b[0m \u001b[31m15.0 MB/s\u001b[0m eta \u001b[36m0:00:00\u001b[0m\n",
            "\u001b[?25hDownloading dill-0.3.8-py3-none-any.whl (116 kB)\n",
            "\u001b[2K   \u001b[90m━━━━━━━━━━━━━━━━━━━━━━━━━━━━━━━━━━━━━━━━\u001b[0m \u001b[32m116.3/116.3 kB\u001b[0m \u001b[31m12.3 MB/s\u001b[0m eta \u001b[36m0:00:00\u001b[0m\n",
            "\u001b[?25hDownloading multiprocess-0.70.16-py310-none-any.whl (134 kB)\n",
            "\u001b[2K   \u001b[90m━━━━━━━━━━━━━━━━━━━━━━━━━━━━━━━━━━━━━━━━\u001b[0m \u001b[32m134.8/134.8 kB\u001b[0m \u001b[31m12.9 MB/s\u001b[0m eta \u001b[36m0:00:00\u001b[0m\n",
            "\u001b[?25hDownloading xxhash-3.5.0-cp310-cp310-manylinux_2_17_x86_64.manylinux2014_x86_64.whl (194 kB)\n",
            "\u001b[2K   \u001b[90m━━━━━━━━━━━━━━━━━━━━━━━━━━━━━━━━━━━━━━━━\u001b[0m \u001b[32m194.1/194.1 kB\u001b[0m \u001b[31m17.2 MB/s\u001b[0m eta \u001b[36m0:00:00\u001b[0m\n",
            "\u001b[?25hInstalling collected packages: xxhash, dill, multiprocess, datasets\n",
            "Successfully installed datasets-3.0.2 dill-0.3.8 multiprocess-0.70.16 xxhash-3.5.0\n"
          ]
        }
      ]
    },
    {
      "cell_type": "code",
      "execution_count": null,
      "metadata": {
        "id": "8Iiq0LkzUCUT"
      },
      "outputs": [],
      "source": [
        "from transformers import PegasusTokenizer, PegasusForConditionalGeneration, Trainer, TrainingArguments, EarlyStoppingCallback\n",
        "from datasets import load_dataset, Dataset, DatasetDict\n",
        "from google.colab import drive\n",
        "import torch\n",
        "import numpy as np\n",
        "import pickle\n",
        "import pandas as pd\n",
        "from torch.quantization import QuantStub, DeQuantStub\n",
        "import os\n",
        "import pickle\n",
        "from sklearn.model_selection import train_test_split\n",
        "\n",
        "os.environ[\"CUDA_LAUNCH_BLOCKING\"] = \"1\""
      ]
    },
    {
      "cell_type": "markdown",
      "source": [
        "#데이터 병합 및 토크나이저, 처리(필요시 사용)\n"
      ],
      "metadata": {
        "id": "m1CyAMxCgEqj"
      }
    },
    {
      "cell_type": "code",
      "source": [
        "# # 병합\n",
        "\n",
        "# # GPU가 사용 가능한지 확인\n",
        "# device = torch.device(\"cuda\" if torch.cuda.is_available() else \"cpu\")\n",
        "# print(f\"Using device: {device}\")\n",
        "\n",
        "# # 데이터 로드 및 병합\n",
        "# data_folder_path = \"/content/drive/MyDrive/summarizer/data\"\n",
        "# dataframes = []\n",
        "\n",
        "# for filename in os.listdir(data_folder_path):\n",
        "#     if filename.endswith(\".csv\"):\n",
        "#         file_path = os.path.join(data_folder_path, filename)\n",
        "#         df = pd.read_csv(file_path, encoding='latin1')\n",
        "\n",
        "#         # 특정 열 이름만 바꾸기\n",
        "#         if filename == \"news_summary.csv\":\n",
        "#             df = df.rename(columns={\n",
        "#                 \"ctext\": \"article\",  # 'ctext'를 'article'로 변경\n",
        "#                 \"text\": \"highlights\"  # 'text'를 'highlights'로 변경\n",
        "#             })\n",
        "\n",
        "#         elif filename == \"news_summary_more.csv\":\n",
        "#             df = df.rename(columns={\n",
        "#                 \"headlines\": \"highlights\",  # 'headlines'를 'highlights'로 변경\n",
        "#                 \"text\": \"article\"  # 'text'를 'article'로 변경\n",
        "#             })\n",
        "\n",
        "#         # 데이터프레임 리스트에 추가\n",
        "#         dataframes.append(df)\n",
        "\n",
        "# # 데이터프레임 병합\n",
        "# combined_df = pd.concat(dataframes, ignore_index=True)\n",
        "\n",
        "# # NaN을 빈 문자열로 대체\n",
        "# combined_df['article'] = combined_df['article'].fillna(\"\")\n",
        "\n",
        "# # 'article' 열의 값이 문자열인지 확인하고, 문자열이 아닌 값은 빈 문자열로 대체\n",
        "# combined_df['article'] = combined_df['article'].apply(lambda x: str(x) if isinstance(x, str) else \"\")\n",
        "\n",
        "# # 빈 행(빈 문자열 포함)을 삭제\n",
        "# combined_df = combined_df[combined_df['article'].str.strip() != \"\"]\n",
        "\n",
        "# combined_df.to_csv(\"/content/drive/MyDrive/summarizer/data/combined_dataset.csv\", index=False)\n",
        "\n",
        "\n",
        "# dataset = Dataset.from_pandas(combined_df)\n",
        "\n",
        "# train_test = dataset.train_test_split(test_size=0.1)\n",
        "# datasets = DatasetDict({\n",
        "#     'train': train_test['train'],\n",
        "#     'test': train_test['test']\n",
        "# })\n",
        "\n"
      ],
      "metadata": {
        "id": "WyPqSis3P0Mq",
        "collapsed": true
      },
      "execution_count": null,
      "outputs": []
    },
    {
      "cell_type": "code",
      "source": [
        "# df = pd.read_csv('/content/drive/MyDrive/summarizer/data/combined_dataset.csv')\n",
        "\n",
        "# device = torch.device(\"cuda\" if torch.cuda.is_available() else \"cpu\")\n",
        "# print(f\"Using device: {device}\")\n",
        "\n",
        "\n",
        "# # Pegasus 모델 및 토크나이저 준비\n",
        "# model_name = \"google/pegasus-xsum\"\n",
        "# tokenizer = PegasusTokenizer.from_pretrained(model_name)\n",
        "# model = PegasusForConditionalGeneration.from_pretrained(model_name).to(device)\n",
        "\n",
        "# # Pandas DataFrame을 Hugging Face Dataset으로 변환\n",
        "# combined_dataset = Dataset.from_pandas(df)\n",
        "\n",
        "# # 전처리 함수 정의 (GPU에서 입력 데이터를 처리하도록 변경)\n",
        "# def preprocess_function(examples):\n",
        "#     inputs = tokenizer(examples['article'], padding=\"max_length\", truncation=True)\n",
        "#     labels = tokenizer(examples['highlights'], padding=\"max_length\", truncation=True)\n",
        "#     inputs[\"labels\"] = labels[\"input_ids\"]\n",
        "#     return inputs\n",
        "\n",
        "# # 1. Hugging Face Datasets를 사용하여 데이터셋을 토크나이징 (배치 단위 처리)\n",
        "# print(\"Tokenizing the dataset...\")\n",
        "# tokenized_datasets = combined_dataset.map(preprocess_function, batched=True)\n"
      ],
      "metadata": {
        "id": "23-CzDW8O1nH"
      },
      "execution_count": null,
      "outputs": []
    },
    {
      "cell_type": "code",
      "source": [
        "\n",
        "# # 토크나이징된 데이터셋을 8개로 나눔\n",
        "# dataset_length = len(tokenized_datasets)\n",
        "# split_size = dataset_length // 8  # 데이터를 8등분\n",
        "\n",
        "# # 3. 각 파트를 pkl 파일로 저장할 경로 설정\n",
        "# output_dir = \"/content/drive/MyDrive/summarizer/preprocessed/\"\n",
        "# os.makedirs(output_dir, exist_ok=True)\n",
        "\n",
        "# for i in range(8):\n",
        "#     start_idx = i * split_size\n",
        "#     # 마지막 파트는 남은 모든 데이터를 포함\n",
        "#     end_idx = (i + 1) * split_size if i < 7 else dataset_length  # 마지막 파트는 전체 끝까지 포함\n",
        "\n",
        "#     # 각 파트의 데이터 추출 (Hugging Face Dataset에서 select 사용)\n",
        "#     part_dataset = tokenized_datasets.select(range(start_idx, end_idx))\n",
        "\n",
        "#     # pickle 파일로 저장\n",
        "#     output_file = os.path.join(output_dir, f\"processed_dataset_part_{i+1}.pkl\")\n",
        "#     with open(output_file, 'wb') as f:\n",
        "#         pickle.dump(part_dataset, f)\n",
        "\n",
        "#     print(f\"Tokenized dataset part {i+1} saved to {output_file}\")"
      ],
      "metadata": {
        "id": "fSGekbkW9L5n"
      },
      "execution_count": null,
      "outputs": []
    },
    {
      "cell_type": "markdown",
      "source": [
        "#학습 세팅(토크나이징 된 데이터 받음)\n"
      ],
      "metadata": {
        "id": "gtMc2iUKgKSK"
      }
    },
    {
      "cell_type": "code",
      "source": [
        "# # 모델과 데이터셋 설정, 처음 학습 시킬때\n",
        "# model_name = \"google/pegasus-xsum\"\n",
        "# tokenizer = PegasusTokenizer.from_pretrained(model_name)\n",
        "# model = PegasusForConditionalGeneration.from_pretrained(model_name)"
      ],
      "metadata": {
        "id": "oA2DD-2SU5sh",
        "collapsed": true
      },
      "execution_count": null,
      "outputs": []
    },
    {
      "cell_type": "code",
      "source": [
        "# 모델과 데이터셋 설정, 직접 학습시킨 모델을 가져와 학습시킬때\n",
        "model_name = \"/content/drive/MyDrive/summarizer/model/model_part_1\"\n",
        "tokenizer = PegasusTokenizer.from_pretrained(model_name)\n",
        "model = PegasusForConditionalGeneration.from_pretrained(model_name)"
      ],
      "metadata": {
        "id": "ei_d0jc5GDDM"
      },
      "execution_count": null,
      "outputs": []
    },
    {
      "cell_type": "code",
      "source": [
        "# 학습 파라미터 설정 (5 에폭씩 학습)\n",
        "training_args = TrainingArguments(\n",
        "        output_dir=f\"/content/drive/MyDrive/summarizer/checkpoints\",\n",
        "        evaluation_strategy=\"epoch\",  # 매 에포크마다 평가\n",
        "        save_strategy=\"epoch\",  # 매 에포크마다 체크포인트 저장\n",
        "        save_steps=1000,\n",
        "        learning_rate=2e-5,\n",
        "        per_device_train_batch_size=4,  # 배치 크기 설정\n",
        "        per_device_eval_batch_size=4,    # 배치 크기 설정\n",
        "        num_train_epochs=5,  # 각각 5 에폭씩 학습\n",
        "        weight_decay=0.01,\n",
        "        logging_dir=f\"/content/drive/MyDrive/summarizer/logging\",\n",
        "        logging_steps=1000,\n",
        "        save_total_limit=2,  # 최대 2개의 체크포인트만 저장\n",
        "        load_best_model_at_end=True,  # 가장 성능이 좋은 모델 로드\n",
        "        metric_for_best_model=\"eval_loss\",  # 가장 좋은 모델을 선택할 기준\n",
        "        greater_is_better=True,  # 낮은 eval_loss가 더 좋은 모델임을 나타냄\n",
        "    )"
      ],
      "metadata": {
        "id": "UdnRFB05HE7Q",
        "colab": {
          "base_uri": "https://localhost:8080/"
        },
        "outputId": "42850257-3c4b-49fe-c9aa-1e363fae66fe"
      },
      "execution_count": null,
      "outputs": [
        {
          "output_type": "stream",
          "name": "stderr",
          "text": [
            "/usr/local/lib/python3.10/dist-packages/transformers/training_args.py:1525: FutureWarning: `evaluation_strategy` is deprecated and will be removed in version 4.46 of 🤗 Transformers. Use `eval_strategy` instead\n",
            "  warnings.warn(\n"
          ]
        }
      ]
    },
    {
      "cell_type": "code",
      "source": [
        "model_checkpoint_path = \"/content/drive/MyDrive/summarizer/checkpoints\""
      ],
      "metadata": {
        "id": "fh3QxRgZgK3q"
      },
      "execution_count": null,
      "outputs": []
    },
    {
      "cell_type": "code",
      "source": [
        "# #모델이 존재하는 경우, 체크포인트 안써도 됨, 없을때만 쓰세요\n",
        "# last_checkpoint = None\n",
        "# if os.path.isdir(model_checkpoint_path) and os.listdir(model_checkpoint_path):\n",
        "#     last_checkpoint = Trainer.get_last_checkpoint(model_checkpoint_path)\n",
        "#     if last_checkpoint is not None:\n",
        "#         print(f\"체크포인트에서 이어서 학습을 시작합니다: {last_checkpoint}\")\n",
        "#     else:\n",
        "#         print(\"체크포인트가 없습니다. 새로 학습을 시작합니다.\")\n",
        "# else:\n",
        "#     print(\"체크포인트 디렉토리가 존재하지 않습니다. 새로 학습을 시작합니다.\")\n"
      ],
      "metadata": {
        "id": "niR216SpNfAu"
      },
      "execution_count": null,
      "outputs": []
    },
    {
      "cell_type": "markdown",
      "source": [
        "#학습(학습 파일은 여러개로 되어있음)"
      ],
      "metadata": {
        "id": "FNrf6O3BHUL5"
      }
    },
    {
      "cell_type": "code",
      "source": [
        "# 데이터셋 리스트, 학습이 하나 끝날때마다 한개씩 주석처리하기\n",
        "file_paths = [\n",
        "    #\"/content/drive/MyDrive/combined/캡스톤 데이터 전처리 파일/summarizer/processed_dataset_part_1.pkl\",\n",
        "    \"/content/drive/MyDrive/combined/캡스톤 데이터 전처리 파일/summarizer/processed_dataset_part_2.pkl\",\n",
        "    \"/content/drive/MyDrive/combined/캡스톤 데이터 전처리 파일/summarizer/processed_dataset_part_3.pkl\",\n",
        "    \"/content/drive/MyDrive/combined/캡스톤 데이터 전처리 파일/summarizer/processed_dataset_part_4.pkl\",\n",
        "    \"/content/drive/MyDrive/combined/캡스톤 데이터 전처리 파일/summarizer/processed_dataset_part_5.pkl\",\n",
        "    \"/content/drive/MyDrive/combined/캡스톤 데이터 전처리 파일/summarizer/processed_dataset_part_6.pkl\",\n",
        "    \"/content/drive/MyDrive/combined/캡스톤 데이터 전처리 파일/summarizer/processed_dataset_part_7.pkl\",\n",
        "    \"/content/drive/MyDrive/combined/캡스톤 데이터 전처리 파일/summarizer/processed_dataset_part_8.pkl\"\n",
        "]\n"
      ],
      "metadata": {
        "id": "tq_RRb46-Cat"
      },
      "execution_count": null,
      "outputs": []
    },
    {
      "cell_type": "code",
      "source": [
        "# def load_preprocessed_data(file_path, split_ratio=0.8):\n",
        "#     with open(file_path, 'rb') as f:\n",
        "#         tokenized_datasets = pickle.load(f)\n",
        "\n",
        "#     # 학습 데이터와 평가 데이터를 나눔 (default: 80% train, 20% eval)\n",
        "#     train_size = int(split_ratio * len(tokenized_datasets))\n",
        "#     train_dataset = tokenized_datasets[:train_size]\n",
        "#     eval_dataset = tokenized_datasets[train_size:]\n",
        "\n",
        "#     return train_dataset, eval_dataset\n"
      ],
      "metadata": {
        "id": "37S-jjJ-mcYn"
      },
      "execution_count": null,
      "outputs": []
    },
    {
      "cell_type": "code",
      "source": [
        "def load_preprocessed_data(file_path):\n",
        "    with open(file_path, 'rb') as f:\n",
        "        tokenized_datasets = pickle.load(f)\n",
        "    return tokenized_datasets"
      ],
      "metadata": {
        "id": "uolZLlAd1mP0"
      },
      "execution_count": null,
      "outputs": []
    },
    {
      "cell_type": "code",
      "source": [
        "#각 파일 가지고 학습시킴, dataset번호는 신경 안쓰셔도 됩니다. file_path에서 읽어오는 파일만 맞으면 돼요\n",
        "for i, file_path in enumerate(file_paths):\n",
        "    print(f\"Loading dataset part {i+1} from {file_path}\")\n",
        "\n",
        "\n",
        "    loaded_data = load_preprocessed_data(file_path)\n",
        "    #train_dataset, eval_dataset = load_preprocessed_data(file_path)\n",
        "\n",
        "    split_data = loaded_data.train_test_split(test_size=0.2)\n",
        "\n",
        "    train_dataset = split_data['train']\n",
        "    eval_dataset = split_data['test']\n",
        "\n",
        "\n",
        "    #Trainer 설정\n",
        "    trainer = Trainer(\n",
        "        model=model,  # 일반 모델로 설정\n",
        "        args=training_args,\n",
        "        train_dataset=train_dataset,  # 학습 데이터셋\n",
        "        eval_dataset=eval_dataset,\n",
        "        tokenizer=tokenizer,\n",
        "        callbacks=[EarlyStoppingCallback(early_stopping_patience=3)]  # 조기 종료: 성능 개선 없으면 3번 후 종료\n",
        "    )\n",
        "    # trainer = Trainer(\n",
        "    #     model=model,\n",
        "    #     args=training_args,\n",
        "    #     train_dataset=train_dataset,  # 학습 데이터셋\n",
        "    #     eval_dataset=eval_dataset,    # 평가 데이터셋 추가\n",
        "    #     data_collator=data_collator,\n",
        "    #     tokenizer=tokenizer\n",
        "    # )\n",
        "\n",
        "    # 학습 시작\n",
        "    print(f\"Training on dataset part {i+1}...\")\n",
        "    try:\n",
        "        trainer.train()\n",
        "\n",
        "\n",
        "    except KeyboardInterrupt:\n",
        "        print(f\"Training interrupted during part {i+1}. Last checkpoint saved.\")\n",
        "\n",
        "    # api키는 이걸로 넣으면 됨 513a1f0c050fa7f60a76b5232e904d8df397082e\n",
        "\n",
        "    # 체크포인트 저장\n",
        "    trainer.save_model(f\"/content/drive/MyDrive/summarizer/model/model_part_{i+1}\")\n",
        "    print(f\"Model checkpoint saved after part {i+1}\")\n"
      ],
      "metadata": {
        "id": "0VxrQGf5-Sj3",
        "colab": {
          "base_uri": "https://localhost:8080/",
          "height": 368
        },
        "outputId": "c6ffecb1-26dd-4bd8-bd64-4a289be747a5",
        "collapsed": true
      },
      "execution_count": null,
      "outputs": [
        {
          "metadata": {
            "tags": null
          },
          "name": "stdout",
          "output_type": "stream",
          "text": [
            "Loading dataset part 1 from /content/drive/MyDrive/combined/캡스톤 데이터 전처리 파일/summarizer/processed_dataset_part_2.pkl\n",
            "Training on dataset part 1...\n"
          ]
        },
        {
          "metadata": {
            "tags": null
          },
          "name": "stderr",
          "output_type": "stream",
          "text": [
            "\u001b[34m\u001b[1mwandb\u001b[0m: \u001b[33mWARNING\u001b[0m The `run_name` is currently set to the same value as `TrainingArguments.output_dir`. If this was not intended, please specify a different run name by setting the `TrainingArguments.run_name` parameter.\n",
            "\u001b[34m\u001b[1mwandb\u001b[0m: Using wandb-core as the SDK backend. Please refer to https://wandb.me/wandb-core for more information.\n"
          ]
        },
        {
          "data": {
            "application/javascript": [
              "\n",
              "        window._wandbApiKey = new Promise((resolve, reject) => {\n",
              "            function loadScript(url) {\n",
              "            return new Promise(function(resolve, reject) {\n",
              "                let newScript = document.createElement(\"script\");\n",
              "                newScript.onerror = reject;\n",
              "                newScript.onload = resolve;\n",
              "                document.body.appendChild(newScript);\n",
              "                newScript.src = url;\n",
              "            });\n",
              "            }\n",
              "            loadScript(\"https://cdn.jsdelivr.net/npm/postmate/build/postmate.min.js\").then(() => {\n",
              "            const iframe = document.createElement('iframe')\n",
              "            iframe.style.cssText = \"width:0;height:0;border:none\"\n",
              "            document.body.appendChild(iframe)\n",
              "            const handshake = new Postmate({\n",
              "                container: iframe,\n",
              "                url: 'https://wandb.ai/authorize'\n",
              "            });\n",
              "            const timeout = setTimeout(() => reject(\"Couldn't auto authenticate\"), 5000)\n",
              "            handshake.then(function(child) {\n",
              "                child.on('authorize', data => {\n",
              "                    clearTimeout(timeout)\n",
              "                    resolve(data)\n",
              "                });\n",
              "            });\n",
              "            })\n",
              "        });\n",
              "    "
            ],
            "text/plain": [
              "<IPython.core.display.Javascript object>"
            ]
          },
          "metadata": {},
          "output_type": "display_data"
        },
        {
          "metadata": {
            "tags": null
          },
          "name": "stderr",
          "output_type": "stream",
          "text": [
            "\u001b[34m\u001b[1mwandb\u001b[0m: Logging into wandb.ai. (Learn how to deploy a W&B server locally: https://wandb.me/wandb-server)\n",
            "\u001b[34m\u001b[1mwandb\u001b[0m: You can find your API key in your browser here: https://wandb.ai/authorize\n",
            "wandb: Paste an API key from your profile and hit enter, or press ctrl+c to quit:\u001b[34m\u001b[1mwandb\u001b[0m: Appending key for api.wandb.ai to your netrc file: /root/.netrc\n"
          ]
        },
        {
          "data": {
            "text/html": [
              "Tracking run with wandb version 0.18.5"
            ],
            "text/plain": [
              "<IPython.core.display.HTML object>"
            ]
          },
          "metadata": {},
          "output_type": "display_data"
        },
        {
          "data": {
            "text/html": [
              "Run data is saved locally in <code>/content/wandb/run-20241027_043418-9gfjupfg</code>"
            ],
            "text/plain": [
              "<IPython.core.display.HTML object>"
            ]
          },
          "metadata": {},
          "output_type": "display_data"
        },
        {
          "data": {
            "text/html": [
              "Syncing run <strong><a href='https://wandb.ai/dkkim2008-hankuk-university-for-foreign-studies/huggingface/runs/9gfjupfg' target=\"_blank\">/content/drive/MyDrive/summarizer/checkpoints</a></strong> to <a href='https://wandb.ai/dkkim2008-hankuk-university-for-foreign-studies/huggingface' target=\"_blank\">Weights & Biases</a> (<a href='https://wandb.me/run' target=\"_blank\">docs</a>)<br/>"
            ],
            "text/plain": [
              "<IPython.core.display.HTML object>"
            ]
          },
          "metadata": {},
          "output_type": "display_data"
        },
        {
          "data": {
            "text/html": [
              " View project at <a href='https://wandb.ai/dkkim2008-hankuk-university-for-foreign-studies/huggingface' target=\"_blank\">https://wandb.ai/dkkim2008-hankuk-university-for-foreign-studies/huggingface</a>"
            ],
            "text/plain": [
              "<IPython.core.display.HTML object>"
            ]
          },
          "metadata": {},
          "output_type": "display_data"
        },
        {
          "data": {
            "text/html": [
              " View run at <a href='https://wandb.ai/dkkim2008-hankuk-university-for-foreign-studies/huggingface/runs/9gfjupfg' target=\"_blank\">https://wandb.ai/dkkim2008-hankuk-university-for-foreign-studies/huggingface/runs/9gfjupfg</a>"
            ],
            "text/plain": [
              "<IPython.core.display.HTML object>"
            ]
          },
          "metadata": {},
          "output_type": "display_data"
        },
        {
          "data": {
            "text/html": [
              "\n",
              "    <div>\n",
              "      \n",
              "      <progress value='1558' max='48740' style='width:300px; height:20px; vertical-align: middle;'></progress>\n",
              "      [ 1558/48740 37:33 < 18:58:38, 0.69 it/s, Epoch 0.16/5]\n",
              "    </div>\n",
              "    <table border=\"1\" class=\"dataframe\">\n",
              "  <thead>\n",
              " <tr style=\"text-align: left;\">\n",
              "      <th>Epoch</th>\n",
              "      <th>Training Loss</th>\n",
              "      <th>Validation Loss</th>\n",
              "    </tr>\n",
              "  </thead>\n",
              "  <tbody>\n",
              "  </tbody>\n",
              "</table><p>"
            ],
            "text/plain": [
              "<IPython.core.display.HTML object>"
            ]
          },
          "metadata": {},
          "output_type": "display_data"
        },
        {
          "output_type": "display_data",
          "data": {
            "text/plain": [
              "<IPython.core.display.HTML object>"
            ],
            "text/html": [
              "\n",
              "    <div>\n",
              "      \n",
              "      <progress value='1803' max='48740' style='width:300px; height:20px; vertical-align: middle;'></progress>\n",
              "      [ 1803/48740 43:28 < 18:52:50, 0.69 it/s, Epoch 0.18/5]\n",
              "    </div>\n",
              "    <table border=\"1\" class=\"dataframe\">\n",
              "  <thead>\n",
              " <tr style=\"text-align: left;\">\n",
              "      <th>Epoch</th>\n",
              "      <th>Training Loss</th>\n",
              "      <th>Validation Loss</th>\n",
              "    </tr>\n",
              "  </thead>\n",
              "  <tbody>\n",
              "  </tbody>\n",
              "</table><p>"
            ]
          },
          "metadata": {}
        }
      ]
    },
    {
      "cell_type": "code",
      "source": [
        "model.save_pretrained(\"/content/drive/MyDrive/summarizer/final_model\")\n",
        "tokenizer.save_pretrained(\"/content/drive/MyDrive/summarizer/final_model\")\n",
        "print(\"Final model and tokenizer saved.\")"
      ],
      "metadata": {
        "id": "xdhlyIkw-WLc"
      },
      "execution_count": null,
      "outputs": []
    },
    {
      "cell_type": "markdown",
      "source": [
        "#입력 및 예측"
      ],
      "metadata": {
        "id": "UdOMaW__glI3"
      }
    },
    {
      "cell_type": "code",
      "source": [
        "# 학습 시작 및 요약 결과 확인\n",
        "def summarize_article(article_text):\n",
        "    inputs = tokenizer(article_text, truncation=True, padding=\"longest\", return_tensors=\"pt\")\n",
        "    summary_ids = model.generate(**inputs, max_length=60, num_beams=5, early_stopping=True)\n",
        "    summary = tokenizer.decode(summary_ids[0], skip_special_tokens=True)\n",
        "    return summary\n"
      ],
      "metadata": {
        "id": "ZReqxiA4bZpH"
      },
      "execution_count": null,
      "outputs": []
    },
    {
      "cell_type": "code",
      "source": [
        "# 사용자 입력 문장을 요약\n",
        "article_text = \"여기다가 입력\"\n",
        "summary = summarize_article(article_text)\n",
        "print(\"\\nSummary:\")\n",
        "print(summary)"
      ],
      "metadata": {
        "id": "rmwCM7XSH0mf"
      },
      "execution_count": null,
      "outputs": []
    }
  ]
}